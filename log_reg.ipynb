{
 "cells": [
  {
   "cell_type": "markdown",
   "metadata": {},
   "source": [
    "# Exploratory Data Analysis"
   ]
  },
  {
   "cell_type": "markdown",
   "metadata": {},
   "source": [
    "## Import libraries"
   ]
  },
  {
   "cell_type": "code",
   "execution_count": 1,
   "metadata": {},
   "outputs": [
    {
     "name": "stderr",
     "output_type": "stream",
     "text": [
      "d:\\apps\\python 3.7.2\\lib\\site-packages\\numpy\\core\\__init__.py:29: UserWarning: loaded more than 1 DLL from .libs:\n",
      "d:\\apps\\python 3.7.2\\lib\\site-packages\\numpy\\.libs\\libopenblas.IPBC74C7KURV7CB2PKT5Z5FNR3SIBV4J.gfortran-win_amd64.dll\n",
      "d:\\apps\\python 3.7.2\\lib\\site-packages\\numpy\\.libs\\libopenblas.TXA6YQSD3GCQQC22GEQ54J2UDCXDXHWN.gfortran-win_amd64.dll\n",
      "  stacklevel=1)\n"
     ]
    }
   ],
   "source": [
    "import pandas as pd"
   ]
  },
  {
   "cell_type": "markdown",
   "metadata": {},
   "source": [
    "### Load data"
   ]
  },
  {
   "cell_type": "code",
   "execution_count": 2,
   "metadata": {},
   "outputs": [
    {
     "data": {
      "text/html": [
       "<div>\n",
       "<style scoped>\n",
       "    .dataframe tbody tr th:only-of-type {\n",
       "        vertical-align: middle;\n",
       "    }\n",
       "\n",
       "    .dataframe tbody tr th {\n",
       "        vertical-align: top;\n",
       "    }\n",
       "\n",
       "    .dataframe thead th {\n",
       "        text-align: right;\n",
       "    }\n",
       "</style>\n",
       "<table border=\"1\" class=\"dataframe\">\n",
       "  <thead>\n",
       "    <tr style=\"text-align: right;\">\n",
       "      <th></th>\n",
       "      <th>name</th>\n",
       "      <th>condition</th>\n",
       "      <th>opinion</th>\n",
       "      <th>rate</th>\n",
       "      <th>rate1</th>\n",
       "    </tr>\n",
       "  </thead>\n",
       "  <tbody>\n",
       "    <tr>\n",
       "      <th>0</th>\n",
       "      <td>Zegerid</td>\n",
       "      <td>GERD</td>\n",
       "      <td>\"Using it as a replacement for Nexium, since i...</td>\n",
       "      <td>10</td>\n",
       "      <td>high</td>\n",
       "    </tr>\n",
       "    <tr>\n",
       "      <th>1</th>\n",
       "      <td>Ethosuximide</td>\n",
       "      <td>Seizures</td>\n",
       "      <td>\"This medicine is very good at controlling me ...</td>\n",
       "      <td>10</td>\n",
       "      <td>high</td>\n",
       "    </tr>\n",
       "    <tr>\n",
       "      <th>2</th>\n",
       "      <td>Tri-Sprintec</td>\n",
       "      <td>Birth Control</td>\n",
       "      <td>\"I just started taking Tri Sprintec after my l...</td>\n",
       "      <td>9</td>\n",
       "      <td>high</td>\n",
       "    </tr>\n",
       "    <tr>\n",
       "      <th>3</th>\n",
       "      <td>Levaquin</td>\n",
       "      <td>Pneumonia</td>\n",
       "      <td>\"This medicine made me feel absolutely horribl...</td>\n",
       "      <td>5</td>\n",
       "      <td>medium</td>\n",
       "    </tr>\n",
       "    <tr>\n",
       "      <th>4</th>\n",
       "      <td>Methylphenidate</td>\n",
       "      <td>ADHD</td>\n",
       "      <td>\"I&amp;#039;ve been taking Concerta since 2003. Fo...</td>\n",
       "      <td>9</td>\n",
       "      <td>high</td>\n",
       "    </tr>\n",
       "  </tbody>\n",
       "</table>\n",
       "</div>"
      ],
      "text/plain": [
       "              name      condition  \\\n",
       "0          Zegerid           GERD   \n",
       "1     Ethosuximide       Seizures   \n",
       "2     Tri-Sprintec  Birth Control   \n",
       "3         Levaquin      Pneumonia   \n",
       "4  Methylphenidate           ADHD   \n",
       "\n",
       "                                             opinion  rate   rate1  \n",
       "0  \"Using it as a replacement for Nexium, since i...    10    high  \n",
       "1  \"This medicine is very good at controlling me ...    10    high  \n",
       "2  \"I just started taking Tri Sprintec after my l...     9    high  \n",
       "3  \"This medicine made me feel absolutely horribl...     5  medium  \n",
       "4  \"I&#039;ve been taking Concerta since 2003. Fo...     9    high  "
      ]
     },
     "execution_count": 2,
     "metadata": {},
     "output_type": "execute_result"
    }
   ],
   "source": [
    "df = pd.read_csv('Train.csv', sep=';')\n",
    "df.head()"
   ]
  },
  {
   "cell_type": "code",
   "execution_count": 3,
   "metadata": {},
   "outputs": [],
   "source": [
    "no_examples = len(df)\n",
    "no_examples\n",
    "no_classes_1 = 10\n",
    "no_classes_2 = 3"
   ]
  },
  {
   "cell_type": "code",
   "execution_count": null,
   "metadata": {},
   "outputs": [],
   "source": [
    "df['opinion'].str.len().mean()"
   ]
  },
  {
   "cell_type": "code",
   "execution_count": null,
   "metadata": {},
   "outputs": [],
   "source": [
    "df['opinion'].str.len().max()"
   ]
  },
  {
   "cell_type": "code",
   "execution_count": null,
   "metadata": {},
   "outputs": [],
   "source": [
    "df['opinion'].str.len().min()\n"
   ]
  },
  {
   "cell_type": "code",
   "execution_count": null,
   "metadata": {},
   "outputs": [],
   "source": [
    "df['opinion'].str.len().hist(bins=200)"
   ]
  },
  {
   "cell_type": "code",
   "execution_count": null,
   "metadata": {},
   "outputs": [],
   "source": [
    "len(df[df['opinion'].str.len() < 1000])"
   ]
  },
  {
   "cell_type": "code",
   "execution_count": null,
   "metadata": {},
   "outputs": [],
   "source": [
    "df[df['opinion'].str.len() < 1000]['opinion'].str.len().hist(bins=200)"
   ]
  },
  {
   "cell_type": "code",
   "execution_count": null,
   "metadata": {},
   "outputs": [],
   "source": [
    "df.groupby(by='rate').name.count()"
   ]
  },
  {
   "cell_type": "code",
   "execution_count": null,
   "metadata": {},
   "outputs": [],
   "source": [
    "df.plot.hist(by='rate')\n"
   ]
  },
  {
   "cell_type": "code",
   "execution_count": 4,
   "metadata": {},
   "outputs": [],
   "source": [
    "df['op_len'] = df['opinion'].str.len()"
   ]
  },
  {
   "cell_type": "code",
   "execution_count": null,
   "metadata": {},
   "outputs": [],
   "source": [
    "print(df.corr())\n",
    "print(df[df['op_len'] < 1000 ].corr())"
   ]
  },
  {
   "cell_type": "code",
   "execution_count": null,
   "metadata": {},
   "outputs": [],
   "source": [
    "df[df['op_len'] < 1000 ].corr().style.background_gradient(cmap='coolwarm')\n"
   ]
  },
  {
   "cell_type": "markdown",
   "metadata": {},
   "source": [
    "# Data cleaning"
   ]
  },
  {
   "cell_type": "code",
   "execution_count": 5,
   "metadata": {},
   "outputs": [],
   "source": [
    "from html import unescape"
   ]
  },
  {
   "cell_type": "markdown",
   "metadata": {},
   "source": [
    "Remove html escaping"
   ]
  },
  {
   "cell_type": "code",
   "execution_count": 6,
   "metadata": {},
   "outputs": [
    {
     "data": {
      "text/plain": [
       "0    \"Using it as a replacement for Nexium, since i...\n",
       "1    \"This medicine is very good at controlling me ...\n",
       "2    \"I just started taking Tri Sprintec after my l...\n",
       "3    \"This medicine made me feel absolutely horribl...\n",
       "4    \"I've been taking Concerta since 2003. For me ...\n",
       "Name: opinion, dtype: object"
      ]
     },
     "execution_count": 6,
     "metadata": {},
     "output_type": "execute_result"
    }
   ],
   "source": [
    "df.update(df[df['opinion'].str.contains('&')]['opinion'].apply(unescape))\n",
    "df.opinion.head()"
   ]
  },
  {
   "cell_type": "markdown",
   "metadata": {},
   "source": [
    "remove trailing \""
   ]
  },
  {
   "cell_type": "code",
   "execution_count": 7,
   "metadata": {},
   "outputs": [
    {
     "data": {
      "text/plain": [
       "0    Using it as a replacement for Nexium, since in...\n",
       "1    This medicine is very good at controlling me s...\n",
       "2    I just started taking Tri Sprintec after my la...\n",
       "3    This medicine made me feel absolutely horrible...\n",
       "4    I've been taking Concerta since 2003. For me i...\n",
       "Name: opinion, dtype: object"
      ]
     },
     "execution_count": 7,
     "metadata": {},
     "output_type": "execute_result"
    }
   ],
   "source": [
    "df['opinion'] = df['opinion'].str[1:-1]\n",
    "df.opinion.head()"
   ]
  },
  {
   "cell_type": "code",
   "execution_count": 8,
   "metadata": {},
   "outputs": [
    {
     "data": {
      "text/html": [
       "<div>\n",
       "<style scoped>\n",
       "    .dataframe tbody tr th:only-of-type {\n",
       "        vertical-align: middle;\n",
       "    }\n",
       "\n",
       "    .dataframe tbody tr th {\n",
       "        vertical-align: top;\n",
       "    }\n",
       "\n",
       "    .dataframe thead th {\n",
       "        text-align: right;\n",
       "    }\n",
       "</style>\n",
       "<table border=\"1\" class=\"dataframe\">\n",
       "  <thead>\n",
       "    <tr style=\"text-align: right;\">\n",
       "      <th></th>\n",
       "      <th>name</th>\n",
       "      <th>condition</th>\n",
       "      <th>opinion</th>\n",
       "      <th>rate</th>\n",
       "      <th>rate1</th>\n",
       "      <th>op_len</th>\n",
       "    </tr>\n",
       "  </thead>\n",
       "  <tbody>\n",
       "    <tr>\n",
       "      <th>37629</th>\n",
       "      <td>Linagliptin / metformin</td>\n",
       "      <td>min)</td>\n",
       "      <td>G</td>\n",
       "      <td>9</td>\n",
       "      <td>high</td>\n",
       "      <td>3</td>\n",
       "    </tr>\n",
       "    <tr>\n",
       "      <th>73143</th>\n",
       "      <td>Keppra</td>\n",
       "      <td>Neuralgia</td>\n",
       "      <td>I</td>\n",
       "      <td>9</td>\n",
       "      <td>high</td>\n",
       "      <td>3</td>\n",
       "    </tr>\n",
       "    <tr>\n",
       "      <th>95279</th>\n",
       "      <td>Ifex</td>\n",
       "      <td>Testicular Cance</td>\n",
       "      <td>-</td>\n",
       "      <td>10</td>\n",
       "      <td>high</td>\n",
       "      <td>3</td>\n",
       "    </tr>\n",
       "    <tr>\n",
       "      <th>99512</th>\n",
       "      <td>Ifosfamide</td>\n",
       "      <td>Testicular Cance</td>\n",
       "      <td>-</td>\n",
       "      <td>10</td>\n",
       "      <td>high</td>\n",
       "      <td>3</td>\n",
       "    </tr>\n",
       "    <tr>\n",
       "      <th>136845</th>\n",
       "      <td>Clonazepam</td>\n",
       "      <td>Anxiety</td>\n",
       "      <td>I</td>\n",
       "      <td>8</td>\n",
       "      <td>high</td>\n",
       "      <td>3</td>\n",
       "    </tr>\n",
       "    <tr>\n",
       "      <th>137422</th>\n",
       "      <td>Levetiracetam</td>\n",
       "      <td>Neuralgia</td>\n",
       "      <td>I</td>\n",
       "      <td>9</td>\n",
       "      <td>high</td>\n",
       "      <td>3</td>\n",
       "    </tr>\n",
       "  </tbody>\n",
       "</table>\n",
       "</div>"
      ],
      "text/plain": [
       "                           name         condition opinion  rate rate1  op_len\n",
       "37629   Linagliptin / metformin              min)       G     9  high       3\n",
       "73143                    Keppra         Neuralgia       I     9  high       3\n",
       "95279                      Ifex  Testicular Cance       -    10  high       3\n",
       "99512                Ifosfamide  Testicular Cance       -    10  high       3\n",
       "136845               Clonazepam           Anxiety       I     8  high       3\n",
       "137422            Levetiracetam         Neuralgia       I     9  high       3"
      ]
     },
     "execution_count": 8,
     "metadata": {},
     "output_type": "execute_result"
    }
   ],
   "source": [
    "df[df['opinion'].str.len() < 2]\n"
   ]
  },
  {
   "cell_type": "code",
   "execution_count": 9,
   "metadata": {},
   "outputs": [],
   "source": [
    "df = df[df['opinion'].str.len() > 2]"
   ]
  },
  {
   "cell_type": "code",
   "execution_count": 10,
   "metadata": {},
   "outputs": [
    {
     "data": {
      "text/plain": [
       "name         16731\n",
       "condition    16660\n",
       "opinion      16731\n",
       "rate         16731\n",
       "rate1        16731\n",
       "op_len       16731\n",
       "dtype: int64"
      ]
     },
     "execution_count": 10,
     "metadata": {},
     "output_type": "execute_result"
    }
   ],
   "source": [
    "df[df['opinion'].str.contains('\\n')].count()"
   ]
  },
  {
   "cell_type": "code",
   "execution_count": null,
   "metadata": {},
   "outputs": [],
   "source": []
  },
  {
   "cell_type": "markdown",
   "metadata": {},
   "source": [
    "# N-Grams & logistic regression"
   ]
  },
  {
   "cell_type": "code",
   "execution_count": null,
   "metadata": {},
   "outputs": [],
   "source": [
    "import sklearn\n",
    "import numpy as np\n",
    "from sklearn.model_selection import train_test_split\n",
    "from sklearn.feature_extraction.text import TfidfVectorizer\n",
    "from sklearn.linear_model import LogisticRegression\n"
   ]
  },
  {
   "cell_type": "code",
   "execution_count": null,
   "metadata": {},
   "outputs": [],
   "source": [
    "train, test = train_test_split(df, test_size=0.2)"
   ]
  },
  {
   "cell_type": "code",
   "execution_count": null,
   "metadata": {},
   "outputs": [],
   "source": [
    "print(train.shape, test.shape)"
   ]
  },
  {
   "cell_type": "code",
   "execution_count": null,
   "metadata": {},
   "outputs": [],
   "source": [
    "tfidf_vect = TfidfVectorizer(ngram_range=(1,2), max_features=10000)\n",
    "X_train_tfidf = tfidf_vect.fit_transform(train['opinion'])\n",
    "len(tfidf_vect.vocabulary_)\n"
   ]
  },
  {
   "cell_type": "code",
   "execution_count": null,
   "metadata": {},
   "outputs": [],
   "source": [
    "indices = np.argsort(tfidf_vect.idf_)[::-1]\n",
    "features = tfidf_vect.get_feature_names()\n",
    "[features[i] for i in indices[:100]]"
   ]
  },
  {
   "cell_type": "code",
   "execution_count": null,
   "metadata": {},
   "outputs": [],
   "source": [
    "lr = LogisticRegression(solver='saga',        \n",
    "                        multi_class='multinomial',\n",
    "                        penalty='l1',\n",
    "                        random_state=42)\n",
    "lr.fit(X_train_tfidf, train['rate'])"
   ]
  },
  {
   "cell_type": "code",
   "execution_count": null,
   "metadata": {},
   "outputs": [],
   "source": [
    "X_test_tfidf = tfidf_vect.transform(test['opinion'])"
   ]
  },
  {
   "cell_type": "code",
   "execution_count": null,
   "metadata": {},
   "outputs": [],
   "source": [
    "predicted = lr.predict(X_test_tfidf)\n",
    "\n",
    "accuracy = np.sum(predicted == test['rate']) / predicted.shape[0]\n",
    "print(accuracy)"
   ]
  },
  {
   "cell_type": "code",
   "execution_count": null,
   "metadata": {},
   "outputs": [],
   "source": [
    "error = np.sum(np.abs(predicted - test['rate'])) / predicted.shape[0]\n",
    "print(error)"
   ]
  },
  {
   "cell_type": "code",
   "execution_count": null,
   "metadata": {},
   "outputs": [],
   "source": [
    "pd.DataFrame(data=np.abs(predicted - test['rate'])).plot.hist()"
   ]
  },
  {
   "cell_type": "markdown",
   "metadata": {},
   "source": [
    "Get drug and disease names for stop words"
   ]
  },
  {
   "cell_type": "code",
   "execution_count": null,
   "metadata": {},
   "outputs": [],
   "source": [
    "drug_names = df['name'].str.lower().unique()\n",
    "drug_names"
   ]
  },
  {
   "cell_type": "code",
   "execution_count": null,
   "metadata": {},
   "outputs": [],
   "source": [
    "disease_names = df['condition'].str.lower().dropna()\n",
    "\n",
    "disease_names = disease_names[~disease_names.str.contains('</span>')].unique()"
   ]
  },
  {
   "cell_type": "code",
   "execution_count": null,
   "metadata": {},
   "outputs": [],
   "source": [
    "stop_words = list(disease_names) + list(drug_names)\n",
    "stop_words"
   ]
  },
  {
   "cell_type": "code",
   "execution_count": null,
   "metadata": {},
   "outputs": [],
   "source": [
    "tfidf_vect = TfidfVectorizer(ngram_range=(1,2), max_features=15000, sublinear_tf=True)\n",
    "X_train_tfidf = tfidf_vect.fit_transform(train['opinion'])\n",
    "len(tfidf_vect.vocabulary_)\n"
   ]
  },
  {
   "cell_type": "code",
   "execution_count": null,
   "metadata": {},
   "outputs": [],
   "source": [
    "lr = LogisticRegression(solver='saga',        \n",
    "                        multi_class='multinomial',\n",
    "                        penalty='l1',\n",
    "                        random_state=42)\n",
    "lr.fit(X_train_tfidf, train['rate'])"
   ]
  },
  {
   "cell_type": "code",
   "execution_count": null,
   "metadata": {},
   "outputs": [],
   "source": [
    "X_test_tfidf = tfidf_vect.transform(test['opinion'])"
   ]
  },
  {
   "cell_type": "code",
   "execution_count": null,
   "metadata": {},
   "outputs": [],
   "source": [
    "predicted = lr.predict(X_test_tfidf)\n",
    "\n",
    "accuracy = np.sum(predicted == test['rate']) / predicted.shape[0]\n",
    "print(accuracy)"
   ]
  },
  {
   "cell_type": "code",
   "execution_count": null,
   "metadata": {},
   "outputs": [],
   "source": [
    "error = np.sum(np.abs(predicted - test['rate'])) / predicted.shape[0]\n",
    "print(error)"
   ]
  },
  {
   "cell_type": "code",
   "execution_count": null,
   "metadata": {},
   "outputs": [],
   "source": [
    "indices = np.argsort(tfidf_vect.idf_)[::-1]\n",
    "features = tfidf_vect.get_feature_names()\n",
    "[(features[i], tfidf_vect.idf_[i]) for i in indices[13000:13100]]"
   ]
  },
  {
   "cell_type": "markdown",
   "metadata": {},
   "source": [
    "Examples of BIG mistakes"
   ]
  },
  {
   "cell_type": "code",
   "execution_count": null,
   "metadata": {},
   "outputs": [],
   "source": [
    "def f(x):\n",
    "    if x > 7:\n",
    "        return 'high'\n",
    "    if x > 3:\n",
    "        return 'medium'\n",
    "    return 'low'\n",
    "\n",
    "accuracy1 = np.sum(np.array([f(p) for p in predicted]) == test['rate1']) / predicted.shape[0]\n",
    "print(accuracy1)\n",
    "for p, r , r2 in zip(predicted, test['opinion'], test['rate']):\n",
    "    if abs(p-r2) > 6:\n",
    "        print('opinion=', r, 'predicted=', p, 'rate=',r2)"
   ]
  },
  {
   "cell_type": "markdown",
   "metadata": {},
   "source": [
    "# LSTM Network"
   ]
  },
  {
   "cell_type": "code",
   "execution_count": 23,
   "metadata": {},
   "outputs": [],
   "source": [
    "from sklearn.model_selection import train_test_split\n",
    "import keras\n",
    "from keras import Sequential\n",
    "from keras.layers import LSTM, Dense\n",
    "from keras.optimizers import Adam\n",
    "from keras.utils import Sequence\n",
    "import numpy as np\n",
    "import nltk\n",
    "import re\n",
    "from nltk.corpus import stopwords"
   ]
  },
  {
   "cell_type": "code",
   "execution_count": 12,
   "metadata": {},
   "outputs": [],
   "source": [
    "# Clean the data up\n",
    "REPLACE_BY_SPACE_RE = re.compile('[/(){}\\[\\]\\|@,;]')\n",
    "BAD_SYMBOLS_RE = re.compile('[^0-9a-z #+_]')\n",
    "UTF_CODES = re.compile('#\\d+')\n",
    "STOPWORDS = set(stopwords.words('english'))\n",
    "\n",
    "def clean_text(text):\n",
    "    \"\"\"\n",
    "        text: a string\n",
    "        \n",
    "        return: modified initial string\n",
    "    \"\"\"\n",
    "    text = text.lower() # lowercase text\n",
    "    text = REPLACE_BY_SPACE_RE.sub(' ', text) # replace REPLACE_BY_SPACE_RE symbols by space in text. substitute the matched string in REPLACE_BY_SPACE_RE with space.\n",
    "    text = BAD_SYMBOLS_RE.sub('', text) # remove symbols which are in BAD_SYMBOLS_RE from text. substitute the matched string in BAD_SYMBOLS_RE with nothing. \n",
    "    text = UTF_CODES.sub('', text)\n",
    "    # We do not remove stop words for LSTM because having a 'not' in a sentence is actually kind of useful\n",
    "    #text = ' '.join(word for word in text.split() if word not in STOPWORDS) # remove stopwors from text\n",
    "    return text"
   ]
  },
  {
   "cell_type": "code",
   "execution_count": 13,
   "metadata": {},
   "outputs": [
    {
     "name": "stdout",
     "output_type": "stream",
     "text": [
      "This drug came after a bad reaction to Metformin.  It is definitely not any better.  From day one I have had diarrhea.  And the heaviness in my arms is still present.  Now the leg spasms are showing up but it is the abdominal pain and the excruciating back pain that take this drug out of the running.  I am coming off of it.  I can't afford for this drug to kill me.  Nausea has been a problem within 3 days of beginning it. Be wary. . .be alert.\n",
      "\n",
      "\n",
      "\n",
      "this drug came after a bad reaction to metformin  it is definitely not any better  from day one i have had diarrhea  and the heaviness in my arms is still present  now the leg spasms are showing up but it is the abdominal pain and the excruciating back pain that take this drug out of the running  i am coming off of it  i cant afford for this drug to kill me  nausea has been a problem within 3 days of beginning it be wary  be alert\n",
      "rate = 1\n"
     ]
    }
   ],
   "source": [
    "no = 10\n",
    "print(df['opinion'][no])\n",
    "print('\\n\\n')\n",
    "df['opinion'] = df['opinion'].map(clean_text)\n",
    "print(df['opinion'][no])\n",
    "print(f\"rate = {df['rate'][no]}\")"
   ]
  },
  {
   "cell_type": "code",
   "execution_count": 14,
   "metadata": {},
   "outputs": [
    {
     "ename": "TypeError",
     "evalue": "'numpy.float64' object does not support item assignment",
     "output_type": "error",
     "traceback": [
      "\u001b[1;31m---------------------------------------------------------------------------\u001b[0m",
      "\u001b[1;31mTypeError\u001b[0m                                 Traceback (most recent call last)",
      "\u001b[1;32m<ipython-input-14-106b2a5c7232>\u001b[0m in \u001b[0;36m<module>\u001b[1;34m\u001b[0m\n\u001b[0;32m     21\u001b[0m \u001b[0mlabels\u001b[0m \u001b[1;33m=\u001b[0m \u001b[0mnp\u001b[0m\u001b[1;33m.\u001b[0m\u001b[0mzeros\u001b[0m\u001b[1;33m(\u001b[0m\u001b[0mY\u001b[0m\u001b[1;33m.\u001b[0m\u001b[0mshape\u001b[0m\u001b[1;33m)\u001b[0m\u001b[1;33m\u001b[0m\u001b[1;33m\u001b[0m\u001b[0m\n\u001b[0;32m     22\u001b[0m \u001b[1;32mfor\u001b[0m \u001b[0mi\u001b[0m\u001b[1;33m,\u001b[0m \u001b[0melem\u001b[0m \u001b[1;32min\u001b[0m \u001b[0menumerate\u001b[0m\u001b[1;33m(\u001b[0m\u001b[0mY\u001b[0m\u001b[1;33m)\u001b[0m\u001b[1;33m:\u001b[0m\u001b[1;33m\u001b[0m\u001b[1;33m\u001b[0m\u001b[0m\n\u001b[1;32m---> 23\u001b[1;33m     \u001b[0mlabels\u001b[0m\u001b[1;33m[\u001b[0m\u001b[0mi\u001b[0m\u001b[1;33m]\u001b[0m\u001b[1;33m[\u001b[0m\u001b[0melem\u001b[0m\u001b[1;33m-\u001b[0m\u001b[1;36m1\u001b[0m\u001b[1;33m]\u001b[0m \u001b[1;33m=\u001b[0m \u001b[1;36m1\u001b[0m\u001b[1;33m\u001b[0m\u001b[1;33m\u001b[0m\u001b[0m\n\u001b[0m\u001b[0;32m     24\u001b[0m \u001b[0mY\u001b[0m \u001b[1;33m=\u001b[0m \u001b[0mlabels\u001b[0m\u001b[1;33m\u001b[0m\u001b[1;33m\u001b[0m\u001b[0m\n",
      "\u001b[1;31mTypeError\u001b[0m: 'numpy.float64' object does not support item assignment"
     ]
    }
   ],
   "source": [
    "##########################################################################\n",
    "# vectorize\n",
    "\n",
    "characters = set()\n",
    "for opinion in df['opinion']:\n",
    "    characters.update(opinion)\n",
    "    \n",
    "    \n",
    "def encode_x(x):\n",
    "    ret = np.zeros((len(x), len(characters)))\n",
    "    for i, c in enumerate(x):\n",
    "        ret[i, characters[c]] = 1\n",
    "    return ret\n",
    "\n",
    "\n",
    "characters = dict(zip(characters, range(len(characters))))\n",
    "X = df['opinion'].map(encode_x).to_numpy()\n",
    "Y = df['rate'].to_numpy()\n",
    "\n",
    "# One hot encoding\n",
    "labels = np.zeros(Y.shape[0], no_classes_1)\n",
    "for i, elem in enumerate(Y):\n",
    "    labels[i][elem-1] = 1\n",
    "Y = labels\n"
   ]
  },
  {
   "cell_type": "code",
   "execution_count": 19,
   "metadata": {},
   "outputs": [
    {
     "name": "stderr",
     "output_type": "stream",
     "text": [
      "WARNING: Logging before flag parsing goes to stderr.\n",
      "W0516 14:59:57.930961 12072 deprecation_wrapper.py:119] From d:\\apps\\python 3.7.2\\lib\\site-packages\\keras\\backend\\tensorflow_backend.py:74: The name tf.get_default_graph is deprecated. Please use tf.compat.v1.get_default_graph instead.\n",
      "\n",
      "W0516 15:00:00.662924 12072 deprecation_wrapper.py:119] From d:\\apps\\python 3.7.2\\lib\\site-packages\\keras\\backend\\tensorflow_backend.py:517: The name tf.placeholder is deprecated. Please use tf.compat.v1.placeholder instead.\n",
      "\n",
      "W0516 15:00:01.071328 12072 deprecation_wrapper.py:119] From d:\\apps\\python 3.7.2\\lib\\site-packages\\keras\\backend\\tensorflow_backend.py:4138: The name tf.random_uniform is deprecated. Please use tf.random.uniform instead.\n",
      "\n",
      "W0516 15:00:03.198310 12072 deprecation_wrapper.py:119] From d:\\apps\\python 3.7.2\\lib\\site-packages\\keras\\optimizers.py:790: The name tf.train.Optimizer is deprecated. Please use tf.compat.v1.train.Optimizer instead.\n",
      "\n",
      "W0516 15:00:03.208348 12072 deprecation_wrapper.py:119] From d:\\apps\\python 3.7.2\\lib\\site-packages\\keras\\backend\\tensorflow_backend.py:3295: The name tf.log is deprecated. Please use tf.math.log instead.\n",
      "\n"
     ]
    }
   ],
   "source": [
    "# Define network\n",
    "def create_model():\n",
    "    model = Sequential()\n",
    "    model.add(LSTM(64, input_shape=(None, len(characters))))\n",
    "    model.add(Dense(10, activation='softmax'))\n",
    "    \n",
    "    optimizer = Adam(lr=0.01)\n",
    "    model.compile(loss='categorical_crossentropy', optimizer=optimizer)\n",
    "    return model\n",
    "\n",
    "model = create_model()"
   ]
  },
  {
   "cell_type": "code",
   "execution_count": 20,
   "metadata": {},
   "outputs": [
    {
     "name": "stdout",
     "output_type": "stream",
     "text": [
      "(149990,) (149990, 10)\n"
     ]
    }
   ],
   "source": [
    "x_train, x_validation, y_train, y_validation =\\\n",
    "    train_test_split(X, Y, test_size=0.1, random_state=1)"
   ]
  },
  {
   "cell_type": "code",
   "execution_count": null,
   "metadata": {},
   "outputs": [
    {
     "name": "stdout",
     "output_type": "stream",
     "text": [
      "Epoch 1/30\n"
     ]
    }
   ],
   "source": [
    "class CustomBatchGenerator(Sequence):\n",
    "    'Generates data for Keras'\n",
    "    def __init__(self, X, y, batch_size=1, shuffle=True):\n",
    "        'Initialization'\n",
    "        self.X = X\n",
    "        self.y = y\n",
    "        self.batch_size = batch_size\n",
    "        self.shuffle = shuffle\n",
    "        self.on_epoch_end()\n",
    "\n",
    "    def __len__(self):\n",
    "        'Denotes the number of batches per epoch'\n",
    "        return int(np.floor(len(self.y)/self.batch_size))\n",
    "\n",
    "    def __getitem__(self, index):\n",
    "        return self.__data_generation(index)\n",
    "\n",
    "    def on_epoch_end(self):\n",
    "        'Shuffles indexes after each epoch'\n",
    "        self.indexes = np.arange(len(self.y))\n",
    "        if self.shuffle == True:\n",
    "            np.random.shuffle(self.indexes)\n",
    "\n",
    "    def __data_generation(self, index):\n",
    "        Xb = np.empty((self.batch_size,) + self.X[index].shape)\n",
    "        yb = np.empty((self.batch_size,) + self.y[index].shape)\n",
    "        # naively use the same sample over and over again\n",
    "        for s in range(0, self.batch_size):\n",
    "            Xb[s] = self.X[index]\n",
    "            yb[s] = self.y[index]\n",
    "        return Xb, yb\n",
    "\n",
    "model.fit_generator(CustomBatchGenerator(x_train, y_train, batch_size=1), epochs=30)"
   ]
  },
  {
   "cell_type": "code",
   "execution_count": 151,
   "metadata": {},
   "outputs": [
    {
     "data": {
      "text/plain": [
       "array([24, 38, 10, 25, 25, 23, 38, 10, 18, 24, 14, 38,  6, 24, 32, 32, 38,\n",
       "        1, 25, 37, 38,  4, 38, 31, 27, 11, 37, 14, 38, 11,  3, 35, 38, 24,\n",
       "        3, 38, 10, 18, 25, 14, 27, 38, 10, 18, 37, 27, 27, 38, 31, 27, 11,\n",
       "       37, 14, 38, 24, 38, 10, 18, 25,  0,  5, 18, 10, 38,  3, 25, 10, 18,\n",
       "       24,  3,  5, 38, 20, 11, 14, 38, 20, 37, 25,  3,  5, 38,  7,  0, 10,\n",
       "       38, 24, 38, 20, 11, 14, 38, 37, 27, 11, 32, 32, 31, 38, 27, 22, 25,\n",
       "       10, 24, 25,  3, 11, 32, 38, 11,  3, 35, 38, 24, 38,  5, 25, 10, 38,\n",
       "       35, 27,  6, 37, 27, 14, 14, 27, 35, 38,  7, 27,  1, 25, 37, 27, 38,\n",
       "       22, 31, 38,  6, 27, 37, 24, 25, 35, 14, 38, 24, 38, 10, 18, 25,  0,\n",
       "        5, 18, 10, 38, 24, 38, 18, 11, 35, 38, 19,  0, 14, 10, 38, 16, 18,\n",
       "       11,  3,  5, 27, 35, 38,  7,  0, 10, 38, 11, 14, 38, 14, 25, 25,  3,\n",
       "       38, 11, 14, 38, 24, 38, 20, 27,  3, 10, 38, 25,  1,  1, 38, 10, 18,\n",
       "       24, 14, 38,  6, 24, 32, 32, 38, 11, 32, 32, 38, 10, 18, 25, 14, 27,\n",
       "       38, 10, 18, 24,  3,  5, 14, 38, 20, 27,  3, 10, 38, 11, 20, 11, 31,\n",
       "       38,  7, 27, 38, 18, 24,  5, 18, 32, 31, 38, 11, 20, 11, 37, 27, 38,\n",
       "       25,  1, 38, 31, 25,  0, 37, 38, 27, 22, 25, 10, 24, 25,  3, 11, 32,\n",
       "       38, 14, 10, 11, 10, 27, 38,  7, 27,  1, 25, 37, 27, 38, 11,  3, 35,\n",
       "       38, 35,  0, 37, 24,  3,  5])"
      ]
     },
     "execution_count": 151,
     "metadata": {},
     "output_type": "execute_result"
    }
   ],
   "source": [
    "x_train[0]"
   ]
  },
  {
   "cell_type": "code",
   "execution_count": 152,
   "metadata": {},
   "outputs": [
    {
     "data": {
      "text/plain": [
       "10145"
      ]
     },
     "execution_count": 152,
     "metadata": {},
     "output_type": "execute_result"
    }
   ],
   "source": [
    "df['opinion'].map(len).max()\n"
   ]
  },
  {
   "cell_type": "code",
   "execution_count": null,
   "metadata": {},
   "outputs": [],
   "source": []
  },
  {
   "cell_type": "code",
   "execution_count": null,
   "metadata": {},
   "outputs": [],
   "source": []
  },
  {
   "cell_type": "code",
   "execution_count": null,
   "metadata": {},
   "outputs": [],
   "source": []
  },
  {
   "cell_type": "code",
   "execution_count": null,
   "metadata": {},
   "outputs": [],
   "source": []
  },
  {
   "cell_type": "code",
   "execution_count": 140,
   "metadata": {},
   "outputs": [],
   "source": []
  },
  {
   "cell_type": "code",
   "execution_count": 144,
   "metadata": {},
   "outputs": [
    {
     "data": {
      "text/plain": [
       "(array([[0., 0., 0., 0., 0., 0., 0., 0., 0., 1.],\n",
       "        [0., 0., 0., 0., 0., 0., 0., 0., 0., 1.],\n",
       "        [0., 0., 0., 0., 0., 0., 0., 0., 1., 0.]]),\n",
       " array([10, 10,  9], dtype=int64),\n",
       " (149990, 10))"
      ]
     },
     "execution_count": 144,
     "metadata": {},
     "output_type": "execute_result"
    }
   ],
   "source": []
  },
  {
   "cell_type": "code",
   "execution_count": null,
   "metadata": {},
   "outputs": [],
   "source": []
  }
 ],
 "metadata": {
  "file_extension": ".py",
  "kernelspec": {
   "display_name": "Python 3",
   "language": "python",
   "name": "python3"
  },
  "language_info": {
   "codemirror_mode": {
    "name": "ipython",
    "version": 3
   },
   "file_extension": ".py",
   "mimetype": "text/x-python",
   "name": "python",
   "nbconvert_exporter": "python",
   "pygments_lexer": "ipython3",
   "version": "3.7.3"
  },
  "mimetype": "text/x-python",
  "name": "python",
  "npconvert_exporter": "python",
  "pygments_lexer": "ipython3",
  "version": 3
 },
 "nbformat": 4,
 "nbformat_minor": 2
}
