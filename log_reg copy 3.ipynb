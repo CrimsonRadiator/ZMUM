{
 "cells": [
  {
   "cell_type": "markdown",
   "metadata": {},
   "source": [
    "# Exploratory Data Analysis"
   ]
  },
  {
   "cell_type": "markdown",
   "metadata": {},
   "source": [
    "## Import libraries"
   ]
  },
  {
   "cell_type": "code",
   "execution_count": 66,
   "metadata": {},
   "outputs": [],
   "source": [
    "import pandas as pd\n",
    "import numpy as np\n",
    "import fasttext\n",
    "import fasttext.util\n",
    "from sklearn.model_selection import train_test_split"
   ]
  },
  {
   "cell_type": "markdown",
   "metadata": {},
   "source": [
    "### Load data"
   ]
  },
  {
   "cell_type": "code",
   "execution_count": 67,
   "metadata": {},
   "outputs": [
    {
     "output_type": "execute_result",
     "data": {
      "text/plain": "              name      condition  \\\n0          Zegerid           GERD   \n1     Ethosuximide       Seizures   \n2     Tri-Sprintec  Birth Control   \n3         Levaquin      Pneumonia   \n4  Methylphenidate           ADHD   \n\n                                             opinion  rate   rate1  \n0  \"Using it as a replacement for Nexium, since i...    10    high  \n1  \"This medicine is very good at controlling me ...    10    high  \n2  \"I just started taking Tri Sprintec after my l...     9    high  \n3  \"This medicine made me feel absolutely horribl...     5  medium  \n4  \"I&#039;ve been taking Concerta since 2003. Fo...     9    high  ",
      "text/html": "<div>\n<style scoped>\n    .dataframe tbody tr th:only-of-type {\n        vertical-align: middle;\n    }\n\n    .dataframe tbody tr th {\n        vertical-align: top;\n    }\n\n    .dataframe thead th {\n        text-align: right;\n    }\n</style>\n<table border=\"1\" class=\"dataframe\">\n  <thead>\n    <tr style=\"text-align: right;\">\n      <th></th>\n      <th>name</th>\n      <th>condition</th>\n      <th>opinion</th>\n      <th>rate</th>\n      <th>rate1</th>\n    </tr>\n  </thead>\n  <tbody>\n    <tr>\n      <th>0</th>\n      <td>Zegerid</td>\n      <td>GERD</td>\n      <td>\"Using it as a replacement for Nexium, since i...</td>\n      <td>10</td>\n      <td>high</td>\n    </tr>\n    <tr>\n      <th>1</th>\n      <td>Ethosuximide</td>\n      <td>Seizures</td>\n      <td>\"This medicine is very good at controlling me ...</td>\n      <td>10</td>\n      <td>high</td>\n    </tr>\n    <tr>\n      <th>2</th>\n      <td>Tri-Sprintec</td>\n      <td>Birth Control</td>\n      <td>\"I just started taking Tri Sprintec after my l...</td>\n      <td>9</td>\n      <td>high</td>\n    </tr>\n    <tr>\n      <th>3</th>\n      <td>Levaquin</td>\n      <td>Pneumonia</td>\n      <td>\"This medicine made me feel absolutely horribl...</td>\n      <td>5</td>\n      <td>medium</td>\n    </tr>\n    <tr>\n      <th>4</th>\n      <td>Methylphenidate</td>\n      <td>ADHD</td>\n      <td>\"I&amp;#039;ve been taking Concerta since 2003. Fo...</td>\n      <td>9</td>\n      <td>high</td>\n    </tr>\n  </tbody>\n</table>\n</div>"
     },
     "metadata": {},
     "execution_count": 67
    }
   ],
   "source": [
    "df = pd.read_csv('Train.csv', sep=';')\n",
    "df.head()"
   ]
  },
  {
   "cell_type": "code",
   "execution_count": 68,
   "metadata": {},
   "outputs": [
    {
     "output_type": "execute_result",
     "data": {
      "text/plain": "150000"
     },
     "metadata": {},
     "execution_count": 68
    }
   ],
   "source": [
    "len(df)"
   ]
  },
  {
   "cell_type": "code",
   "execution_count": 69,
   "metadata": {},
   "outputs": [],
   "source": [
    "imbalance = df.groupby(by='rate').name.count()"
   ]
  },
  {
   "cell_type": "code",
   "execution_count": 70,
   "metadata": {},
   "outputs": [],
   "source": [
    "imbalance = np.ceil(21/np.ceil(((imbalance/imbalance.min())*2)))"
   ]
  },
  {
   "cell_type": "code",
   "execution_count": 71,
   "metadata": {},
   "outputs": [],
   "source": [
    "df['op_len'] = df['opinion'].str.len()"
   ]
  },
  {
   "cell_type": "markdown",
   "metadata": {},
   "source": [
    "# Data cleaning"
   ]
  },
  {
   "cell_type": "code",
   "execution_count": 72,
   "metadata": {},
   "outputs": [],
   "source": [
    "from html import unescape"
   ]
  },
  {
   "cell_type": "markdown",
   "metadata": {},
   "source": [
    "Remove html escaping"
   ]
  },
  {
   "cell_type": "code",
   "execution_count": 73,
   "metadata": {},
   "outputs": [
    {
     "output_type": "execute_result",
     "data": {
      "text/plain": "0    \"Using it as a replacement for Nexium, since i...\n1    \"This medicine is very good at controlling me ...\n2    \"I just started taking Tri Sprintec after my l...\n3    \"This medicine made me feel absolutely horribl...\n4    \"I've been taking Concerta since 2003. For me ...\nName: opinion, dtype: object"
     },
     "metadata": {},
     "execution_count": 73
    }
   ],
   "source": [
    "df.update(df[df['opinion'].str.contains('&')]['opinion'].apply(unescape))\n",
    "df.opinion.head()"
   ]
  },
  {
   "cell_type": "markdown",
   "metadata": {},
   "source": [
    "remove trailing \""
   ]
  },
  {
   "cell_type": "code",
   "execution_count": 74,
   "metadata": {},
   "outputs": [
    {
     "output_type": "execute_result",
     "data": {
      "text/plain": "0    Using it as a replacement for Nexium, since in...\n1    This medicine is very good at controlling me s...\n2    I just started taking Tri Sprintec after my la...\n3    This medicine made me feel absolutely horrible...\n4    I've been taking Concerta since 2003. For me i...\nName: opinion, dtype: object"
     },
     "metadata": {},
     "execution_count": 74
    }
   ],
   "source": [
    "df['opinion'] = df['opinion'].str[1:-1]\n",
    "df.opinion.head()"
   ]
  },
  {
   "cell_type": "code",
   "execution_count": 75,
   "metadata": {},
   "outputs": [
    {
     "output_type": "execute_result",
     "data": {
      "text/plain": "0    using it as a replacement for nexium, since in...\n1    this medicine is very good at controlling me s...\n2    i just started taking tri sprintec after my la...\n3    this medicine made me feel absolutely horrible...\n4    i've been taking concerta since 2003. for me i...\nName: opinion, dtype: object"
     },
     "metadata": {},
     "execution_count": 75
    }
   ],
   "source": [
    "df['opinion'] = df['opinion'].str.lower()\n",
    "df.opinion.head()"
   ]
  },
  {
   "cell_type": "code",
   "execution_count": 76,
   "metadata": {},
   "outputs": [],
   "source": [
    "df = df[df['opinion'].str.len() > 2]"
   ]
  },
  {
   "cell_type": "code",
   "execution_count": 77,
   "metadata": {},
   "outputs": [],
   "source": [
    "df['name'] = df['name'].str.lower()\n",
    "df['condition'] = df['condition'].str.lower().dropna()"
   ]
  },
  {
   "cell_type": "code",
   "execution_count": 78,
   "metadata": {},
   "outputs": [],
   "source": [
    "df = df.sample(frac=1.0)"
   ]
  },
  {
   "cell_type": "code",
   "execution_count": 79,
   "metadata": {},
   "outputs": [],
   "source": [
    "# Clean the data up\n",
    "import re\n",
    "REPLACE_BY_SPACE_RE = re.compile('[/(){}\\[\\]\\|@,;:]')\n",
    "BAD_SYMBOLS_RE = re.compile('[^a-z #+_]')\n",
    "UTF_CODES = re.compile('#\\d+')\n",
    "\n",
    "def clean_text(text):\n",
    "    \"\"\"\n",
    "        text: a string\n",
    "        \n",
    "        return: modified initial string\n",
    "    \"\"\"\n",
    "    text = text.lower() # lowercase text\n",
    "    text = REPLACE_BY_SPACE_RE.sub(' ', text) # replace REPLACE_BY_SPACE_RE symbols by space in text. substitute the matched string in REPLACE_BY_SPACE_RE with space.\n",
    "    text = BAD_SYMBOLS_RE.sub('', text) # remove symbols which are in BAD_SYMBOLS_RE from text. substitute the matched string in BAD_SYMBOLS_RE with nothing. \n",
    "    text = UTF_CODES.sub('', text)\n",
    "    # We do not remove stop words for LSTM because having a 'not' in a sentence is actually kind of useful\n",
    "    #text = ' '.join(word for word in text.split() if word not in STOPWORDS) # remove stopwors from text\n",
    "    return text\n",
    "df['opinion'] = df['opinion'].apply(clean_text)"
   ]
  },
  {
   "cell_type": "code",
   "execution_count": 80,
   "metadata": {},
   "outputs": [],
   "source": [
    "df['condition'] = df['condition'].astype('string').dropna().apply(clean_text)\n",
    "df['name'] = df['name'].astype('string').dropna().apply(clean_text)"
   ]
  },
  {
   "cell_type": "code",
   "execution_count": 81,
   "metadata": {},
   "outputs": [],
   "source": [
    "train, test = train_test_split(df, test_size=0.1)\n"
   ]
  },
  {
   "cell_type": "code",
   "execution_count": 104,
   "metadata": {},
   "outputs": [],
   "source": [
    "import csv\n",
    "import re\n",
    "\n",
    "location_train_fasttext = \"opinion.train.ft\" #will be created\n",
    "location_test_fasttext = \"opinion.test.ft\" #will be created\n",
    "\n",
    "#creates Vowpal Wabbit-formatted file from tsv file\n",
    "def to_fasttext(df,location_output_file, test = False):\n",
    "    with open(location_output_file, \"w\") as outfile:\n",
    "    #create a reader to read train file\n",
    "        #for every line\n",
    "        for i, row in df.iterrows():\n",
    "            #if test set label doesnt matter/or isnt available\n",
    "            label = str(row['rate'])\n",
    "            imb = int(imbalance[row['rate']])\n",
    "            phrase = row['opinion']\n",
    "            outfile.write('__label__'+label+' '+phrase + \"\\n\" )"
   ]
  },
  {
   "cell_type": "markdown",
   "metadata": {},
   "source": [
    "## 65.8%"
   ]
  },
  {
   "cell_type": "code",
   "execution_count": 29,
   "metadata": {},
   "outputs": [],
   "source": [
    "model = fasttext.train_supervised(input=location_train_fasttext, lr=1.0, epoch=25, wordNgrams=2)"
   ]
  },
  {
   "cell_type": "code",
   "execution_count": 30,
   "metadata": {},
   "outputs": [
    {
     "output_type": "execute_result",
     "data": {
      "text/plain": "(29998, 0.6586105740382692, 0.6586105740382692)"
     },
     "metadata": {},
     "execution_count": 30
    }
   ],
   "source": [
    "model.test(location_test_fasttext)"
   ]
  },
  {
   "cell_type": "markdown",
   "metadata": {},
   "source": [
    "# 71.3%"
   ]
  },
  {
   "cell_type": "code",
   "execution_count": 18,
   "metadata": {},
   "outputs": [],
   "source": [
    "model = fasttext.train_supervised(input=location_train_fasttext, lr=1.0, epoch=25, wordNgrams=5)"
   ]
  },
  {
   "cell_type": "code",
   "execution_count": 19,
   "metadata": {},
   "outputs": [
    {
     "output_type": "execute_result",
     "data": {
      "text/plain": "(14999, 0.7133142209480632, 0.7133142209480632)"
     },
     "metadata": {},
     "execution_count": 19
    }
   ],
   "source": [
    "model.test(location_test_fasttext)"
   ]
  },
  {
   "cell_type": "code",
   "execution_count": 20,
   "metadata": {},
   "outputs": [
    {
     "output_type": "execute_result",
     "data": {
      "text/plain": "(14999, 0.7146476431762118, 0.7146476431762118)"
     },
     "metadata": {},
     "execution_count": 20
    }
   ],
   "source": [
    "model = fasttext.train_supervised(input=location_train_fasttext, lr=1.0, epoch=25, wordNgrams=7)\n",
    "model.test(location_test_fasttext)"
   ]
  },
  {
   "cell_type": "code",
   "execution_count": 21,
   "metadata": {},
   "outputs": [
    {
     "output_type": "execute_result",
     "data": {
      "text/plain": "(14999, 0.7140476031735449, 0.7140476031735449)"
     },
     "metadata": {},
     "execution_count": 21
    }
   ],
   "source": [
    "model = fasttext.train_supervised(input=location_train_fasttext, lr=0.5, epoch=25, wordNgrams=7)\n",
    "model.test(location_test_fasttext)"
   ]
  },
  {
   "cell_type": "code",
   "execution_count": 22,
   "metadata": {},
   "outputs": [
    {
     "output_type": "execute_result",
     "data": {
      "text/plain": "(14999, 0.701580105340356, 0.701580105340356)"
     },
     "metadata": {},
     "execution_count": 22
    }
   ],
   "source": [
    "model = fasttext.train_supervised(input=location_train_fasttext, lr=0.1, epoch=30, wordNgrams=7)\n",
    "model.test(location_test_fasttext)"
   ]
  },
  {
   "cell_type": "code",
   "execution_count": 23,
   "metadata": {},
   "outputs": [
    {
     "output_type": "execute_result",
     "data": {
      "text/plain": "(14999, 0.7115807720514701, 0.7115807720514701)"
     },
     "metadata": {},
     "execution_count": 23
    }
   ],
   "source": [
    "model = fasttext.train_supervised(input=location_train_fasttext, lr=0.3, epoch=30, wordNgrams=5)\n",
    "model.test(location_test_fasttext)"
   ]
  },
  {
   "cell_type": "code",
   "execution_count": 24,
   "metadata": {},
   "outputs": [
    {
     "output_type": "execute_result",
     "data": {
      "text/plain": "(14999, 0.7122474831655443, 0.7122474831655443)"
     },
     "metadata": {},
     "execution_count": 24
    }
   ],
   "source": [
    "model = fasttext.train_supervised(input=location_train_fasttext, lr=0.3, epoch=30, wordNgrams=5, neg=10)\n",
    "model.test(location_test_fasttext)"
   ]
  },
  {
   "cell_type": "code",
   "execution_count": 25,
   "metadata": {},
   "outputs": [
    {
     "output_type": "execute_result",
     "data": {
      "text/plain": "(14999, 0.46529768651243414, 0.46529768651243414)"
     },
     "metadata": {},
     "execution_count": 25
    }
   ],
   "source": [
    "model = fasttext.train_supervised(input=location_train_fasttext, lr=0.01, epoch=50, wordNgrams=5)\n",
    "model.test(location_test_fasttext)"
   ]
  },
  {
   "cell_type": "code",
   "execution_count": 28,
   "metadata": {},
   "outputs": [],
   "source": [
    "model = fasttext.train_supervised(input=location_train_fasttext, lr=0.01, epoch=200, wordNgrams=5)\n",
    "model.test(location_test_fasttext)"
   ]
  },
  {
   "cell_type": "code",
   "execution_count": 19,
   "metadata": {},
   "outputs": [
    {
     "output_type": "execute_result",
     "data": {
      "text/plain": "(14999, 0.4523634908993933, 0.4523634908993933)"
     },
     "metadata": {},
     "execution_count": 19
    }
   ],
   "source": [
    "model.test(location_test_fasttext)"
   ]
  },
  {
   "cell_type": "markdown",
   "metadata": {},
   "source": [
    "# BEST MODEL 80%"
   ]
  },
  {
   "cell_type": "code",
   "execution_count": 83,
   "metadata": {},
   "outputs": [
    {
     "output_type": "execute_result",
     "data": {
      "text/plain": "(14999, 0.7111807453830256, 0.7111807453830256)"
     },
     "metadata": {},
     "execution_count": 83
    }
   ],
   "source": [
    "model = fasttext.train_supervised(input=location_train_fasttext, lr=1.0, epoch=25, wordNgrams=5, ws=7, dim=300)\n",
    "model.test(location_test_fasttext)"
   ]
  },
  {
   "cell_type": "code",
   "execution_count": 42,
   "metadata": {},
   "outputs": [
    {
     "output_type": "execute_result",
     "data": {
      "text/plain": "(14999, 0.8054536969131275, 0.8054536969131275)"
     },
     "metadata": {},
     "execution_count": 42
    }
   ],
   "source": [
    "model = fasttext.train_supervised(input=location_train_fasttext, lr=1.0, epoch=20, wordNgrams=4, ws=7, dim=300)\n",
    "model.test(location_test_fasttext)"
   ]
  },
  {
   "cell_type": "code",
   "execution_count": null,
   "metadata": {},
   "outputs": [],
   "source": []
  },
  {
   "cell_type": "code",
   "execution_count": 84,
   "metadata": {},
   "outputs": [],
   "source": [
    "preds = test['opinion'].apply(model.predict)"
   ]
  },
  {
   "cell_type": "code",
   "execution_count": 85,
   "metadata": {
    "tags": [
     "outputPrepend",
     "outputPrepend",
     "outputPrepend",
     "outputPrepend",
     "outputPrepend",
     "outputPrepend"
    ]
   },
   "outputs": [
    {
     "output_type": "stream",
     "name": "stdout",
     "text": "0.7111807453830256\n"
    }
   ],
   "source": [
    "c = 0\n",
    "for pred, rate in zip(preds, test['rate']):\n",
    "    if int(pred[0][0][-1:]) == int(rate):\n",
    "        c+=1\n",
    "    elif int(pred[0][0][-1:])==0 and int(rate)==10:\n",
    "        c+=1\n",
    "print(c/len(test))"
   ]
  },
  {
   "cell_type": "markdown",
   "metadata": {},
   "source": [
    "# K-Fold CV"
   ]
  },
  {
   "cell_type": "code",
   "execution_count": 88,
   "metadata": {},
   "outputs": [],
   "source": [
    "from sklearn.model_selection import KFold"
   ]
  },
  {
   "cell_type": "code",
   "execution_count": 103,
   "metadata": {},
   "outputs": [
    {
     "output_type": "stream",
     "name": "stdout",
     "text": "opinion  rate\n83567  i started using enbrel two years ago i can sti...    10\n67584  i love zonegran  i have no seizures while on t...     9\n67779  so  ive had the patch for  years and a half no...    10\n64045  i have had the implanon since december    i am...     8\n97861  seeing all the positive reviews its upsetting ...     1                                                   opinion  rate\n16162   ive been on aviane for about  weeks im on my t...     4\n133562  ive been using desmopressin acetate injection ...    10\n143450  my second round of aldara i am hpv +    the mo...     8\n113607  the only antidepressant that has actually give...     9\n23893   this is my second day of taking phentermine  t...    10\n                                                  opinion  rate\n16162   ive been on aviane for about  weeks im on my t...     4\n133562  ive been using desmopressin acetate injection ...    10\n143450  my second round of aldara i am hpv +    the mo...     8\n113607  the only antidepressant that has actually give...     9\n23893   this is my second day of taking phentermine  t...    10                                                  opinion  rate\n83567  i started using enbrel two years ago i can sti...    10\n67584  i love zonegran  i have no seizures while on t...     9\n67779  so  ive had the patch for  years and a half no...    10\n64045  i have had the implanon since december    i am...     8\n97861  seeing all the positive reviews its upsetting ...     1\n                                                  opinion  rate\n16162   ive been on aviane for about  weeks im on my t...     4\n133562  ive been using desmopressin acetate injection ...    10\n143450  my second round of aldara i am hpv +    the mo...     8\n113607  the only antidepressant that has actually give...     9\n23893   this is my second day of taking phentermine  t...    10                                                   opinion  rate\n99107   its effective in no getting pregnant but my ex...     7\n81100   ive had implanon in for almost a year since iv...     1\n110404  ive been using it for over a year and it is gr...    10\n133662  after hitting an all time low i had to do some...     8\n113820  i have been taking sertraline since october of...     9\n                                                  opinion  rate\n16162   ive been on aviane for about  weeks im on my t...     4\n133562  ive been using desmopressin acetate injection ...    10\n143450  my second round of aldara i am hpv +    the mo...     8\n113607  the only antidepressant that has actually give...     9\n23893   this is my second day of taking phentermine  t...    10                                                   opinion  rate\n132804  got a yi after antibiotic for sinus infection ...     2\n26996   put my heart into afibrillation it was discont...     1\n112036  i was prescribed this medication as i have a c...     9\n45906   i spent  on the one day treatment when i woke ...     1\n30207   after about  years of struggling with severe  ...     9\n                                                  opinion  rate\n16162   ive been on aviane for about  weeks im on my t...     4\n133562  ive been using desmopressin acetate injection ...    10\n143450  my second round of aldara i am hpv +    the mo...     8\n113607  the only antidepressant that has actually give...     9\n23893   this is my second day of taking phentermine  t...    10                                                   opinion  rate\n70882   ive tired them all and this one is by far the ...    10\n54759   i have had chronic back pain for around  years...     4\n141442  after having a scary experience with the miren...     1\n17908   it is an effective remedy but the side effects...     5\n28753   this medication does not work for me i have fi...     1\n                                                  opinion  rate\n16162   ive been on aviane for about  weeks im on my t...     4\n133562  ive been using desmopressin acetate injection ...    10\n143450  my second round of aldara i am hpv +    the mo...     8\n113607  the only antidepressant that has actually give...     9\n23893   this is my second day of taking phentermine  t...    10                                                   opinion  rate\n24674   for me personally  generic doxazosin is just a...    10\n32094   i was given talwin after having oral surgeryit...    10\n58914   i had a colonoscopy and the anesthesiologist u...    10\n90473   i have been on jolessa for about a month due t...     8\n133983  i developed cystic acne  im guessing as a resu...    10\n                                                  opinion  rate\n16162   ive been on aviane for about  weeks im on my t...     4\n133562  ive been using desmopressin acetate injection ...    10\n143450  my second round of aldara i am hpv +    the mo...     8\n113607  the only antidepressant that has actually give...     9\n23893   this is my second day of taking phentermine  t...    10                                                  opinion  rate\n51521  i am   and i had the mirena inserted  weeks af...    10\n41506  efexor has been instrumental in controlling my...    10\n1587   i found teratoll very helpful i take i  conjun...     9\n29258  took this medicine for a few days and got horr...     2\n62085  the only medicine that has resulted in my numb...     9\n                                                  opinion  rate\n16162   ive been on aviane for about  weeks im on my t...     4\n133562  ive been using desmopressin acetate injection ...    10\n143450  my second round of aldara i am hpv +    the mo...     8\n113607  the only antidepressant that has actually give...     9\n23893   this is my second day of taking phentermine  t...    10                                                   opinion  rate\n126470  i had the birth control iud mirena placed just...     1\n82640   pros  symptoms started to noticeably decrease ...     5\n94490   worked really well i suffer from chronic insom...    10\n128821  dilaudid has been beneficial to my daily activ...     8\n29172   i have been taking mobic  meloxicam  for about...     9\n                                                  opinion  rate\n16162   ive been on aviane for about  weeks im on my t...     4\n133562  ive been using desmopressin acetate injection ...    10\n143450  my second round of aldara i am hpv +    the mo...     8\n113607  the only antidepressant that has actually give...     9\n23893   this is my second day of taking phentermine  t...    10                                                   opinion  rate\n130379  i have been on apri for almost nine months and...     9\n40735   i was scared to try this but saw these reviews...    10\n125763  i think belviq pretty much saved my life i had...    10\n67538   i get cold sores about every other month i wen...     9\n12085   took levaquin since i am allergic to penicllin...     7\n                                                  opinion  rate\n16162   ive been on aviane for about  weeks im on my t...     4\n133562  ive been using desmopressin acetate injection ...    10\n143450  my second round of aldara i am hpv +    the mo...     8\n113607  the only antidepressant that has actually give...     9\n23893   this is my second day of taking phentermine  t...    10                                                   opinion  rate\n140224  its now been three months since i had the mire...     8\n123230  this medicine works like magic ive been on it ...    10\n149016  i love it have not had any depression issues o...    10\n27765               seemed to work better than omeprazole     8\n105707  its very effective against pregnancy but the s...     5\n"
    }
   ],
   "source": [
    "kf = KFold(n_splits=10)\n",
    "for train_index, test_index in kf.split(df['opinion']):\n",
    "    train = df.iloc[train_index, 2:4]\n",
    "    test = df.iloc[test_index, 2:4]\n",
    "    to_fasttext(train, location_train_fasttext)\n",
    "    to_fasttext(test, location_test_fasttext, test=True)\n",
    "    model = fasttext.train_supervised(input=location_train_fasttext, lr=1.0, epoch=25, wordNgrams=5, ws=7, dim=300)\n",
    "    model.test(location_test_fasttext)\n",
    "    c = 0\n",
    "    preds = test['opinion'].apply(model.predict)\n",
    "    for pred, rate in zip(preds, test['rate']):\n",
    "        if int(pred[0][0][-1:]) == int(rate):\n",
    "            c+=1\n",
    "        elif int(pred[0][0][-1:])==0 and int(rate)==10:\n",
    "            c+=1\n",
    "    print(c/len(test))"
   ]
  },
  {
   "cell_type": "code",
   "execution_count": 210,
   "metadata": {},
   "outputs": [
    {
     "output_type": "execute_result",
     "data": {
      "text/plain": "        pred\nrow         \n137633     6\n6492       4\n98406      4\n67886      4\n139546     7\n...      ...\n7442       2\n35877      9\n148681     1\n99621      2\n75075      1\n\n[29998 rows x 1 columns]",
      "text/html": "<div>\n<style scoped>\n    .dataframe tbody tr th:only-of-type {\n        vertical-align: middle;\n    }\n\n    .dataframe tbody tr th {\n        vertical-align: top;\n    }\n\n    .dataframe thead th {\n        text-align: right;\n    }\n</style>\n<table border=\"1\" class=\"dataframe\">\n  <thead>\n    <tr style=\"text-align: right;\">\n      <th></th>\n      <th>pred</th>\n    </tr>\n    <tr>\n      <th>row</th>\n      <th></th>\n    </tr>\n  </thead>\n  <tbody>\n    <tr>\n      <th>137633</th>\n      <td>6</td>\n    </tr>\n    <tr>\n      <th>6492</th>\n      <td>4</td>\n    </tr>\n    <tr>\n      <th>98406</th>\n      <td>4</td>\n    </tr>\n    <tr>\n      <th>67886</th>\n      <td>4</td>\n    </tr>\n    <tr>\n      <th>139546</th>\n      <td>7</td>\n    </tr>\n    <tr>\n      <th>...</th>\n      <td>...</td>\n    </tr>\n    <tr>\n      <th>7442</th>\n      <td>2</td>\n    </tr>\n    <tr>\n      <th>35877</th>\n      <td>9</td>\n    </tr>\n    <tr>\n      <th>148681</th>\n      <td>1</td>\n    </tr>\n    <tr>\n      <th>99621</th>\n      <td>2</td>\n    </tr>\n    <tr>\n      <th>75075</th>\n      <td>1</td>\n    </tr>\n  </tbody>\n</table>\n<p>29998 rows × 1 columns</p>\n</div>"
     },
     "metadata": {},
     "execution_count": 210
    }
   ],
   "source": [
    "results = pd.read_csv('opinion.preds.txt', names=['pred', 'row'], sep=' ')\n",
    "results = results.set_index('row')\n",
    "results"
   ]
  },
  {
   "cell_type": "code",
   "execution_count": 211,
   "metadata": {},
   "outputs": [
    {
     "output_type": "execute_result",
     "data": {
      "text/plain": "index\n137633     2\n6492       4\n98406      8\n67886     10\n139546     3\n          ..\n7442       8\n35877      6\n148681     8\n99621      9\n75075     10\nName: rate, Length: 29998, dtype: int64"
     },
     "metadata": {},
     "execution_count": 211
    }
   ],
   "source": [
    "original = pd.read_csv('opinion.test.vw', sep = '|', header=None)\n",
    "original = original.iloc[:,0]\n",
    "original_rate = original.apply(lambda x: int(x.split(' ')[0]))\n",
    "original_index = original.apply(lambda x: int(x.split(' ')[2][1:]))\n",
    "original = pd.DataFrame()\n",
    "original['index'] = original_index\n",
    "original['rate'] = original_rate\n",
    "original = original.set_index('index')['rate']\n",
    "original"
   ]
  }
 ],
 "metadata": {
  "language_info": {
   "name": "python",
   "codemirror_mode": {
    "name": "ipython",
    "version": 3
   },
   "version": "3.7.7-final"
  },
  "orig_nbformat": 2,
  "file_extension": ".py",
  "mimetype": "text/x-python",
  "name": "python",
  "npconvert_exporter": "python",
  "pygments_lexer": "ipython3",
  "version": 3,
  "kernelspec": {
   "name": "python37764bitd2bdb5f656b74aeaa882ffa91b8f1c71",
   "display_name": "Python 3.7.7 64-bit"
  }
 },
 "nbformat": 4,
 "nbformat_minor": 2
}